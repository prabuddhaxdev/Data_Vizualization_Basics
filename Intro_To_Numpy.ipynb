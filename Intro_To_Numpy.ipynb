{
 "cells": [
  {
   "cell_type": "markdown",
   "id": "01b3ad16-800c-43ef-ab1c-19d7e79eed47",
   "metadata": {},
   "source": [
    "Basic:"
   ]
  },
  {
   "cell_type": "code",
   "execution_count": 2,
   "id": "e49e36dc-6129-43f0-b26e-3098affe501b",
   "metadata": {},
   "outputs": [
    {
     "name": "stdout",
     "output_type": "stream",
     "text": [
      "[ 80 100 120]\n",
      "[1200 2100 3200]\n"
     ]
    }
   ],
   "source": [
    "import numpy as np\n",
    "\n",
    "a = [20, 30, 40]\n",
    "b = [60, 70, 80]\n",
    "a = np.array(a)\n",
    "b = np.array(b)\n",
    "print(a+b)\n",
    "print(a*b)"
   ]
  },
  {
   "cell_type": "code",
   "execution_count": 4,
   "id": "82b9e8f4-f8da-4daf-b3bb-011184c3633b",
   "metadata": {},
   "outputs": [
    {
     "name": "stdout",
     "output_type": "stream",
     "text": [
      "[[30 40 50]\n",
      " [40 30 10]]\n",
      "2\n",
      "(2, 3)\n",
      "6\n",
      "<class 'numpy.ndarray'>\n",
      "int32\n",
      "[[30. 40. 50.]\n",
      " [40. 30. 10.]]\n"
     ]
    }
   ],
   "source": [
    "a = [[30,40,50],[40,30,10]]\n",
    "arr = np.array(a)\n",
    "print(arr)\n",
    "print(arr.ndim)\n",
    "print(arr.shape)\n",
    "print(arr.size)\n",
    "print(type(arr))\n",
    "print(arr.dtype)\n",
    "print(arr.astype(float))"
   ]
  },
  {
   "cell_type": "code",
   "execution_count": 6,
   "id": "be74ff05-16ec-42c8-9b19-5e572bca225a",
   "metadata": {},
   "outputs": [
    {
     "name": "stdout",
     "output_type": "stream",
     "text": [
      "[[60 60]\n",
      " [30 30]]\n",
      "[[60 60]\n",
      " [30 30]]\n"
     ]
    }
   ],
   "source": [
    "import numpy as np\n",
    "\n",
    "arr1 = np.array([[30,40],[20,10]])\n",
    "arr2 = np.array([[30,20],[10,20]])\n",
    "print(arr1+arr2)\n",
    "print(np.add(arr1,arr2))"
   ]
  },
  {
   "cell_type": "code",
   "execution_count": 8,
   "id": "de3dbaf8-667e-4d5a-96fb-e33bb6fb564e",
   "metadata": {},
   "outputs": [
    {
     "name": "stdout",
     "output_type": "stream",
     "text": [
      "[[  0  20]\n",
      " [ 10 -10]]\n",
      "[[  0  20]\n",
      " [ 10 -10]]\n"
     ]
    }
   ],
   "source": [
    "arr1 = np.array([[30,40],[20,10]])\n",
    "arr2 = np.array([[30,20],[10,20]])\n",
    "print(arr1-arr2)\n",
    "print(np.subtract(arr1,arr2))"
   ]
  },
  {
   "cell_type": "code",
   "execution_count": 10,
   "id": "5335bc9b-9ead-4a6b-acf5-25cf9ce29660",
   "metadata": {},
   "outputs": [
    {
     "name": "stdout",
     "output_type": "stream",
     "text": [
      "[ 9 16  4  1]\n"
     ]
    }
   ],
   "source": [
    "arr1 = np.array([3,4,2,1])\n",
    "arr2 = np.array([2])\n",
    "print(np.power(arr1,arr2))"
   ]
  },
  {
   "cell_type": "code",
   "execution_count": 12,
   "id": "e43c0dd2-2438-4e09-a37d-0728a4036c41",
   "metadata": {},
   "outputs": [
    {
     "name": "stdout",
     "output_type": "stream",
     "text": [
      "[3. 4. 2. 1.]\n"
     ]
    }
   ],
   "source": [
    "arr1 = np.array([9,16,4,1])\n",
    "print(np.sqrt(arr1))"
   ]
  },
  {
   "cell_type": "markdown",
   "id": "e8d5ea98-5ab0-4a5b-82d1-12761c284d3a",
   "metadata": {},
   "source": [
    "Concatenation:"
   ]
  },
  {
   "cell_type": "code",
   "execution_count": 14,
   "id": "c4b0793c-b69f-40b3-b8fe-47993a387283",
   "metadata": {},
   "outputs": [
    {
     "name": "stdout",
     "output_type": "stream",
     "text": [
      "[[30 40]\n",
      " [50 10]\n",
      " [ 5  5]\n",
      " [ 3  3]]\n"
     ]
    }
   ],
   "source": [
    "import numpy as np\n",
    "arr1 = np.array([[30,40],[50,10]])\n",
    "arr2 = np.array([[5,5],[3,3]])\n",
    "print(np.concatenate((arr1,arr2)))"
   ]
  },
  {
   "cell_type": "code",
   "execution_count": 16,
   "id": "0ecf635a-5fee-4366-8d70-a7e78a1fa7b8",
   "metadata": {},
   "outputs": [
    {
     "name": "stdout",
     "output_type": "stream",
     "text": [
      "[[30 40]\n",
      " [50 10]\n",
      " [ 5  5]\n",
      " [ 3  3]]\n"
     ]
    }
   ],
   "source": [
    "print(np.vstack((arr1,arr2))) #vertical concatenation"
   ]
  },
  {
   "cell_type": "markdown",
   "id": "ea620cb1-68f9-4f69-ac19-4c0fcde019ac",
   "metadata": {},
   "source": [
    "Adding and Removing:"
   ]
  },
  {
   "cell_type": "code",
   "execution_count": 18,
   "id": "8851cc82-bcb4-45a0-bc8e-06d50921fff3",
   "metadata": {},
   "outputs": [
    {
     "name": "stdout",
     "output_type": "stream",
     "text": [
      "[ 20  40  60  80  90 100]\n"
     ]
    }
   ],
   "source": [
    "import numpy as np\n",
    "\n",
    "a = np.array([[20,40],[60,80]])\n",
    "print(np.append(a,[90,100]))"
   ]
  },
  {
   "cell_type": "code",
   "execution_count": 20,
   "id": "46360e6a-ea7c-41a5-9fea-cb19e6d2708a",
   "metadata": {},
   "outputs": [
    {
     "name": "stdout",
     "output_type": "stream",
     "text": [
      "[20 50 40 60 80]\n"
     ]
    }
   ],
   "source": [
    "print(np.insert(a,1,50))"
   ]
  },
  {
   "cell_type": "code",
   "execution_count": 22,
   "id": "f5ebfcd2-014b-4e4a-b716-7e565500b9bc",
   "metadata": {},
   "outputs": [
    {
     "name": "stdout",
     "output_type": "stream",
     "text": [
      "[[20 40]\n",
      " [50 50]\n",
      " [60 80]\n",
      " [50 50]]\n"
     ]
    }
   ],
   "source": [
    "print(np.insert(a,[1,2],[50],axis = 0)) #array,index,value"
   ]
  },
  {
   "cell_type": "markdown",
   "id": "150b70e6-183d-4cdc-a525-49978395c9dd",
   "metadata": {},
   "source": [
    "Search ,Sort and Filter:"
   ]
  },
  {
   "cell_type": "code",
   "execution_count": 24,
   "id": "603bf41f-5de7-4f45-a6b7-af9bbc955792",
   "metadata": {},
   "outputs": [
    {
     "name": "stdout",
     "output_type": "stream",
     "text": [
      "[[ 4  7  8  9 12]\n",
      " [ 1  2  3  5  8]]\n"
     ]
    }
   ],
   "source": [
    "ar = np.array([[7,8,4,12,9],[2,8,5,1,3]])\n",
    "print(np.sort(ar))"
   ]
  },
  {
   "cell_type": "code",
   "execution_count": 26,
   "id": "dae0bbcb-ca83-4682-b7a7-98a648d70b5c",
   "metadata": {},
   "outputs": [
    {
     "name": "stdout",
     "output_type": "stream",
     "text": [
      "(array([1, 2, 3], dtype=int64),)\n"
     ]
    }
   ],
   "source": [
    "ar1 = np.array([7,8,4,12,9])\n",
    "print(np.where(ar1 % 2 == 0))"
   ]
  },
  {
   "cell_type": "code",
   "execution_count": 28,
   "id": "9e870c88-90b8-4a7f-9cec-61b441495dff",
   "metadata": {},
   "outputs": [
    {
     "name": "stdout",
     "output_type": "stream",
     "text": [
      "[20 40 60]\n"
     ]
    }
   ],
   "source": [
    "a = np.array([20,30,40,50,60])\n",
    "x = [True,False,True,False,True]\n",
    "print(a[x])"
   ]
  },
  {
   "cell_type": "markdown",
   "id": "6866f548-de45-4d47-b084-9cc97bd484fa",
   "metadata": {},
   "source": [
    "Statistical Functions:"
   ]
  },
  {
   "cell_type": "code",
   "execution_count": 30,
   "id": "e23bb5a4-b722-4615-84c5-798a7bd8ad8b",
   "metadata": {},
   "outputs": [
    {
     "name": "stdout",
     "output_type": "stream",
     "text": [
      "20\n",
      "70\n",
      "190\n",
      "47.5\n",
      "50.0\n",
      "[ 20  60 120 190]\n",
      "[     20     800   48000 3360000]\n",
      "\n",
      "\n",
      "340.0\n",
      "300.0\n",
      "100\n",
      "233.23807579381202\n",
      "54400.0\n"
     ]
    }
   ],
   "source": [
    "import statistics as stats\n",
    "a = np.array([20,40,60,70])\n",
    "b = np.array([100,300,700,100,500])\n",
    "print(np.min(a))\n",
    "print(np.max(a))\n",
    "print(np.sum(a))\n",
    "print(np.mean(a))\n",
    "print(np.median(a))\n",
    "print(np.cumsum(a))\n",
    "print(np.cumprod(a))\n",
    "print(\"\\n\")\n",
    "print(np.mean(b))\n",
    "print(np.median(b))\n",
    "print(stats.mode(b))\n",
    "print(np.std(b))\n",
    "print(np.var(b))"
   ]
  },
  {
   "cell_type": "code",
   "execution_count": 32,
   "id": "5aa3a169-6ef1-418e-bf03-95a95087475d",
   "metadata": {},
   "outputs": [
    {
     "name": "stdout",
     "output_type": "stream",
     "text": [
      "[100 150 199 200 250 130] \n",
      " [10 50 30 40 30 10]\n",
      "\n",
      "[[ 100  150  199  200  250  130]\n",
      " [1000 7500 5970 8000 7500 1300]]\n"
     ]
    }
   ],
   "source": [
    "a = [100,150,199,200, 250, 130]\n",
    "b = [10,50,30,40,30,10]\n",
    "\n",
    "price = np.array(a)\n",
    "quantity = np.array(b)\n",
    "print(price,\"\\n\",quantity)\n",
    "print()\n",
    "print(np.cumprod([price,quantity],axis = 0))"
   ]
  },
  {
   "cell_type": "code",
   "execution_count": null,
   "id": "3c82be5b-7811-4364-b3d3-5ef99f366ca7",
   "metadata": {},
   "outputs": [],
   "source": []
  }
 ],
 "metadata": {
  "kernelspec": {
   "display_name": "Python 3 (ipykernel)",
   "language": "python",
   "name": "python3"
  },
  "language_info": {
   "codemirror_mode": {
    "name": "ipython",
    "version": 3
   },
   "file_extension": ".py",
   "mimetype": "text/x-python",
   "name": "python",
   "nbconvert_exporter": "python",
   "pygments_lexer": "ipython3",
   "version": "3.12.7"
  }
 },
 "nbformat": 4,
 "nbformat_minor": 5
}
